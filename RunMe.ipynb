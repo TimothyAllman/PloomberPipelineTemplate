{
 "cells": [
  {
   "cell_type": "markdown",
   "metadata": {},
   "source": [
    "------\n",
    "# RunMe\n",
    "The `RunMe.ipynb` notebook is the central \"command center\" for the data science pipeline. It functions as the user interaction point to run and maintain the pipeline\n",
    "\n",
    "------ "
   ]
  },
  {
   "cell_type": "markdown",
   "metadata": {},
   "source": [
    "## Scaffold Pipeline(s) i.e. helpful utility fo creating tasks "
   ]
  },
  {
   "cell_type": "markdown",
   "metadata": {},
   "source": [
    "### Scaffold the \"reports\" pipeline"
   ]
  },
  {
   "cell_type": "code",
   "execution_count": 10,
   "metadata": {},
   "outputs": [
    {
     "name": "stdout",
     "output_type": "stream",
     "text": [
      "Microsoft Windows [Version 10.0.19045.4046]\n",
      "(c) Microsoft Corporation. All rights reserved.\n",
      "\n",
      "(.venv) d:\\CompSci\\Github\\PloomberPipelineTemplate>cd MyPipeline\n",
      "\n",
      "(.venv) d:\\CompSci\\Github\\PloomberPipelineTemplate\\MyPipeline>ploomber scaffold --entry-point pipeline.report.yaml\n"
     ]
    },
    {
     "name": "stdout",
     "output_type": "stream",
     "text": [
      "Found spec at 'pipeline.report.yaml'\n",
      "All tasks sources declared in 'pipeline.report.yaml' exist, nothing was created.\n",
      "\n",
      "(.venv) d:\\CompSci\\Github\\PloomberPipelineTemplate\\MyPipeline>"
     ]
    }
   ],
   "source": [
    "%%cmd\n",
    "cd MyPipeline\n",
    "ploomber scaffold --entry-point pipeline.report.yaml"
   ]
  },
  {
   "cell_type": "markdown",
   "metadata": {},
   "source": [
    "### Scaffold the \"results\" pipeline"
   ]
  },
  {
   "cell_type": "code",
   "execution_count": 11,
   "metadata": {},
   "outputs": [
    {
     "name": "stdout",
     "output_type": "stream",
     "text": [
      "Microsoft Windows [Version 10.0.19045.4046]\n",
      "(c) Microsoft Corporation. All rights reserved.\n",
      "\n",
      "(.venv) d:\\CompSci\\Github\\PloomberPipelineTemplate>cd MyPipeline\n",
      "\n",
      "(.venv) d:\\CompSci\\Github\\PloomberPipelineTemplate\\MyPipeline>ploomber scaffold \n"
     ]
    },
    {
     "name": "stdout",
     "output_type": "stream",
     "text": [
      "Found spec at 'pipeline.yaml'\n",
      "All tasks sources declared in 'pipeline.yaml' exist, nothing was created.\n",
      "\n",
      "(.venv) d:\\CompSci\\Github\\PloomberPipelineTemplate\\MyPipeline>"
     ]
    }
   ],
   "source": [
    "%%cmd\n",
    "cd MyPipeline\n",
    "ploomber scaffold "
   ]
  },
  {
   "cell_type": "markdown",
   "metadata": {},
   "source": [
    "<hr style=\"height:200pt; visibility:hidden;\" />\n",
    "\n",
    "## Run Pipeline(s) i.e. start the processand produce results"
   ]
  },
  {
   "cell_type": "markdown",
   "metadata": {},
   "source": [
    "### Run the \"reports\" pipeline"
   ]
  },
  {
   "cell_type": "code",
   "execution_count": null,
   "metadata": {},
   "outputs": [],
   "source": [
    "%%cmd\n",
    "cd MyPipeline\n",
    "ploomber build --entry-point pipeline.report.yaml"
   ]
  },
  {
   "cell_type": "markdown",
   "metadata": {},
   "source": [
    "### Run the \"results\" pipeline\n",
    "if you want to force all the tasks to run no matter the cached results"
   ]
  },
  {
   "cell_type": "code",
   "execution_count": 15,
   "metadata": {},
   "outputs": [
    {
     "name": "stdout",
     "output_type": "stream",
     "text": [
      "Microsoft Windows [Version 10.0.19045.4046]\n",
      "(c) Microsoft Corporation. All rights reserved.\n",
      "\n",
      "(.venv) d:\\CompSci\\Github\\PloomberPipelineTemplate>cd MyPipeline \n",
      "\n",
      "(.venv) d:\\CompSci\\Github\\PloomberPipelineTemplate\\MyPipeline>ploomber build --force \n"
     ]
    },
    {
     "name": "stdout",
     "output_type": "stream",
     "text": [
      "Loading pipeline...\n"
     ]
    },
    {
     "name": "stderr",
     "output_type": "stream",
     "text": [
      "[INFO] Starting Chromium download.\n",
      "100%|██████████| 229M/229M [01:15<00:00, 3.05Mb/s] \n",
      "[INFO] Beginning extraction\n",
      "[INFO] Chromium extracted to: C:\\Users\\username\\AppData\\Local\\pyppeteer\\pyppeteer\\local-chromium\\1263111\n",
      "d:\\CompSci\\Github\\PloomberPipelineTemplate\\.venv\\lib\\site-packages\\ploomber\\tasks\\notebook.py:638: FutureWarning: papermill_params will be deprecated in future releases.Please rename the section to executor_params\n",
      "  warnings.warn(\n",
      "d:\\CompSci\\Github\\PloomberPipelineTemplate\\.venv\\lib\\site-packages\\ploomber\\dag\\dag.py:456: UserWarning: \n",
      "========================== DAG render with warnings ===========================\n",
      "- NotebookRunner: ConstantsFromEnvFileParams -> MetaProduct({'MY_THING_1': File('product..._THING_1.pkl'), 'MY_THING_2': File('product..._THING_2.pkl'), 'nb': File('product...Params.ipynb')}) -\n",
      "- D:\\CompSci\\Github\\PloomberPipelineTemplate\\MyPipeline\\tasks\\ConstantsFromEnvFileParams.py -\n",
      "These parameters are not used in the task's source code: 'ENV_THING_1', and 'ENV_THING_2'\n",
      "============================== Summary (1 task) ===============================\n",
      "NotebookRunner: ConstantsFromEnvFileParams -> MetaProduct({'MY_THING_1': File('product..._THING_1.pkl'), 'MY_THING_2': File('product..._THING_2.pkl'), 'nb': File('product...Params.ipynb')})\n",
      "========================== DAG render with warnings ===========================\n",
      "\n",
      "  warnings.warn(str(warnings_))\n",
      "Error: Tasks must generate unique products. The following products appear in more than one task:\n",
      "* File('products\\\\MyCoolF...task1GetData.ipynb') generated by tasks: 'task1DoCalc', 'task1GetData', 'task2DoCalc', and 'task2GetData'\n"
     ]
    },
    {
     "name": "stdout",
     "output_type": "stream",
     "text": [
      "\n",
      "(.venv) d:\\CompSci\\Github\\PloomberPipelineTemplate\\MyPipeline>"
     ]
    }
   ],
   "source": [
    "%%cmd\n",
    "cd MyPipeline \n",
    "ploomber build --force "
   ]
  },
  {
   "cell_type": "markdown",
   "metadata": {},
   "source": [
    "if you want to run the pipeline but take into account ached results (i.e. not run things you don't need to) "
   ]
  },
  {
   "cell_type": "code",
   "execution_count": null,
   "metadata": {},
   "outputs": [],
   "source": [
    "%%cmd\n",
    "cd MyPipeline\n",
    "ploomber build "
   ]
  },
  {
   "cell_type": "markdown",
   "metadata": {},
   "source": [
    "<hr style=\"height:200pt; visibility:hidden;\" />\n",
    "\n",
    "## Plot Pipeline(s) i.e. make a nice image of the end-to-end flow"
   ]
  },
  {
   "cell_type": "markdown",
   "metadata": {},
   "source": [
    "### plot the \"results/\"main\" pipeline"
   ]
  },
  {
   "cell_type": "code",
   "execution_count": null,
   "metadata": {},
   "outputs": [],
   "source": [
    "%%cmd\n",
    "cd My Pipeline\n",
    "ploomber plot --backend mermaid --output MyPipelineDiagram.html"
   ]
  },
  {
   "cell_type": "code",
   "execution_count": null,
   "metadata": {},
   "outputs": [],
   "source": []
  },
  {
   "cell_type": "code",
   "execution_count": null,
   "metadata": {},
   "outputs": [],
   "source": []
  },
  {
   "cell_type": "markdown",
   "metadata": {},
   "source": [
    "<hr style=\"height:200pt; visibility:hidden;\" />\n",
    "\n",
    "## Get A Status Report Pipeline(s) i.e. make a table of tasks and if they have run"
   ]
  },
  {
   "cell_type": "markdown",
   "metadata": {},
   "source": [
    "### Status report on the \"results/\"main\" pipeline"
   ]
  },
  {
   "cell_type": "code",
   "execution_count": null,
   "metadata": {},
   "outputs": [],
   "source": [
    "%%cmd\n",
    "cd MyPiepline\n",
    "ploomber report --outut MyPipelineStatusReport.html"
   ]
  }
 ],
 "metadata": {
  "kernelspec": {
   "display_name": ".venv",
   "language": "python",
   "name": "python3"
  },
  "language_info": {
   "codemirror_mode": {
    "name": "ipython",
    "version": 3
   },
   "file_extension": ".py",
   "mimetype": "text/x-python",
   "name": "python",
   "nbconvert_exporter": "python",
   "pygments_lexer": "ipython3",
   "version": "3.10.11"
  }
 },
 "nbformat": 4,
 "nbformat_minor": 2
}
