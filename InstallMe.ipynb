{
 "cells": [
  {
   "cell_type": "markdown",
   "metadata": {},
   "source": [
    "we use uv to manage our project and do dependecy resolution"
   ]
  },
  {
   "cell_type": "code",
   "execution_count": 1,
   "metadata": {},
   "outputs": [
    {
     "name": "stdout",
     "output_type": "stream",
     "text": [
      "Microsoft Windows [Version 10.0.19045.5247]\n",
      "(c) Microsoft Corporation. All rights reserved.\n",
      "\n",
      "(.venv) d:\\CompSci\\Github\\PloomberPipelineTemplate>pip install uv\n",
      "Requirement already satisfied: uv in d:\\compsci\\github\\ploomberpipelinetemplate\\.venv\\lib\\site-packages (0.5.31)\n",
      "\n",
      "(.venv) d:\\CompSci\\Github\\PloomberPipelineTemplate>"
     ]
    }
   ],
   "source": [
    "%%cmd\n",
    "pip install uv"
   ]
  },
  {
   "cell_type": "markdown",
   "metadata": {},
   "source": [
    "in order to set the prjoect up/get all he correct packages/dependencies installed in the right places"
   ]
  },
  {
   "cell_type": "code",
   "execution_count": 3,
   "metadata": {},
   "outputs": [
    {
     "name": "stdout",
     "output_type": "stream",
     "text": [
      "Microsoft Windows [Version 10.0.19045.5247]\n",
      "(c) Microsoft Corporation. All rights reserved.\n",
      "\n",
      "(.venv) d:\\CompSci\\Github\\PloomberPipelineTemplate>uv sync\n"
     ]
    },
    {
     "name": "stderr",
     "output_type": "stream",
     "text": [
      "  \u001b[31m×\u001b[0m No solution found when resolving dependencies for split\n",
      "  \u001b[31m│\u001b[0m (python_full_version >= '3.12'):\n",
      "\u001b[31m  ╰─▶ \u001b[0mBecause pickle was not found in the package registry and your project\n",
      "\u001b[31m      \u001b[0mdepends on pickle, we can conclude that your project's requirements\n",
      "\u001b[31m      \u001b[0mare unsatisfiable.\n"
     ]
    },
    {
     "name": "stdout",
     "output_type": "stream",
     "text": [
      "\n",
      "(.venv) d:\\CompSci\\Github\\PloomberPipelineTemplate>"
     ]
    }
   ],
   "source": [
    "%%cmd\n",
    "uv sync"
   ]
  },
  {
   "cell_type": "markdown",
   "metadata": {},
   "source": [
    "if yu need to export to requirements you can use"
   ]
  },
  {
   "cell_type": "code",
   "execution_count": null,
   "metadata": {},
   "outputs": [],
   "source": []
  }
 ],
 "metadata": {
  "kernelspec": {
   "display_name": "Python 3",
   "language": "python",
   "name": "python3"
  },
  "language_info": {
   "codemirror_mode": {
    "name": "ipython",
    "version": 3
   },
   "file_extension": ".py",
   "mimetype": "text/x-python",
   "name": "python",
   "nbconvert_exporter": "python",
   "pygments_lexer": "ipython3",
   "version": "3.10.11"
  }
 },
 "nbformat": 4,
 "nbformat_minor": 2
}
