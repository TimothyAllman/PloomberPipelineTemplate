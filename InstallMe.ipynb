{
 "cells": [
  {
   "cell_type": "markdown",
   "metadata": {},
   "source": [
    "we use uv to manage our project and do dependecy resolution"
   ]
  },
  {
   "cell_type": "code",
   "execution_count": 1,
   "metadata": {},
   "outputs": [
    {
     "name": "stdout",
     "output_type": "stream",
     "text": [
      "Microsoft Windows [Version 10.0.19045.5247]\n",
      "(c) Microsoft Corporation. All rights reserved.\n",
      "\n",
      "(.venv) d:\\CompSci\\Github\\PloomberPipelineTemplate>pip install uv\n",
      "Requirement already satisfied: uv in d:\\compsci\\github\\ploomberpipelinetemplate\\.venv\\lib\\site-packages (0.5.31)\n",
      "\n",
      "(.venv) d:\\CompSci\\Github\\PloomberPipelineTemplate>"
     ]
    }
   ],
   "source": [
    "%%cmd\n",
    "pip install uv"
   ]
  },
  {
   "cell_type": "markdown",
   "metadata": {},
   "source": [
    "in order to set the prjoect up/get all he correct packages/dependencies installed in the right places"
   ]
  },
  {
   "cell_type": "code",
   "execution_count": 8,
   "metadata": {},
   "outputs": [
    {
     "name": "stdout",
     "output_type": "stream",
     "text": [
      "Microsoft Windows [Version 10.0.19045.5247]\n",
      "(c) Microsoft Corporation. All rights reserved.\n",
      "\n",
      "(.venv) d:\\CompSci\\Github\\PloomberPipelineTemplate>uv sync\n"
     ]
    },
    {
     "name": "stderr",
     "output_type": "stream",
     "text": [
      "\u001b[2mResolved \u001b[1m148 packages\u001b[0m \u001b[2min 1.50s\u001b[0m\u001b[0m\n",
      "   \u001b[36m\u001b[1mBuilding\u001b[0m\u001b[39m ploomberpipelinetemplate\u001b[2m @ file:///D:/CompSci/Github/PloomberPipelineTemplate\u001b[0m\n",
      "\u001b[36m\u001b[1mDownloading\u001b[0m\u001b[39m uv \u001b[2m(16.1MiB)\u001b[0m\n",
      "\u001b[36m\u001b[1mDownloading\u001b[0m\u001b[39m kaleido \u001b[2m(62.8MiB)\u001b[0m\n",
      "      \u001b[32m\u001b[1mBuilt\u001b[0m\u001b[39m ploomberpipelinetemplate\u001b[2m @ file:///D:/CompSci/Github/PloomberPipelineTemplate\u001b[0m\n",
      " \u001b[32m\u001b[1mDownloaded\u001b[0m\u001b[39m uv\n",
      " \u001b[32m\u001b[1mDownloaded\u001b[0m\u001b[39m kaleido\n",
      "\u001b[2mPrepared \u001b[1m3 packages\u001b[0m \u001b[2min 1m 14s\u001b[0m\u001b[0m\n",
      "\u001b[1m\u001b[33mwarning\u001b[39m\u001b[0m\u001b[1m:\u001b[0m \u001b[1mFailed to uninstall package at \u001b[36m.venv\\Lib\\site-packages\\psutil-6.1.1.dist-info\u001b[39m due to missing `RECORD` file. Installation may result in an incomplete environment.\u001b[0m\n",
      "\u001b[2mUninstalled \u001b[1m2 packages\u001b[0m \u001b[2min 4.95s\u001b[0m\u001b[0m\n",
      "\u001b[1m\u001b[33mwarning\u001b[39m\u001b[0m\u001b[1m:\u001b[0m \u001b[1mFailed to hardlink files; falling back to full copy. This may lead to degraded performance.\n",
      "         If the cache and target directories are on different filesystems, hardlinking may not be supported.\n",
      "         If this is intentional, set `export UV_LINK_MODE=copy` or use `--link-mode=copy` to suppress this warning.\u001b[0m\n"
     ]
    }
   ],
   "source": [
    "%%cmd\n",
    "uv sync"
   ]
  },
  {
   "cell_type": "markdown",
   "metadata": {},
   "source": [
    "if yu need to export to requirements you can use"
   ]
  },
  {
   "cell_type": "code",
   "execution_count": null,
   "metadata": {},
   "outputs": [],
   "source": []
  }
 ],
 "metadata": {
  "kernelspec": {
   "display_name": "Python 3",
   "language": "python",
   "name": "python3"
  },
  "language_info": {
   "codemirror_mode": {
    "name": "ipython",
    "version": 3
   },
   "file_extension": ".py",
   "mimetype": "text/x-python",
   "name": "python",
   "nbconvert_exporter": "python",
   "pygments_lexer": "ipython3",
   "version": "3.10.11"
  }
 },
 "nbformat": 4,
 "nbformat_minor": 2
}
