{
 "cells": [
  {
   "cell_type": "markdown",
   "metadata": {},
   "source": [
    "we use uv to manage our project and do dependecy resolution"
   ]
  },
  {
   "cell_type": "code",
   "execution_count": 1,
   "metadata": {},
   "outputs": [
    {
     "name": "stdout",
     "output_type": "stream",
     "text": [
      "Microsoft Windows [Version 10.0.19045.5247]\n",
      "(c) Microsoft Corporation. All rights reserved.\n",
      "\n",
      "(.venv) d:\\CompSci\\Github\\PloomberPipelineTemplate>pip install uv\n",
      "Requirement already satisfied: uv in d:\\compsci\\github\\ploomberpipelinetemplate\\.venv\\lib\\site-packages (0.5.31)\n",
      "\n",
      "(.venv) d:\\CompSci\\Github\\PloomberPipelineTemplate>"
     ]
    }
   ],
   "source": [
    "%%cmd\n",
    "pip install uv"
   ]
  },
  {
   "cell_type": "markdown",
   "metadata": {},
   "source": [
    "in order to set the prjoect up/get all he correct packages/dependencies installed in the right places"
   ]
  },
  {
   "cell_type": "code",
   "execution_count": 6,
   "metadata": {},
   "outputs": [
    {
     "name": "stdout",
     "output_type": "stream",
     "text": [
      "Microsoft Windows [Version 10.0.19045.5247]\n",
      "(c) Microsoft Corporation. All rights reserved.\n",
      "\n",
      "(.venv) d:\\CompSci\\Github\\PloomberPipelineTemplate>uv sync\n"
     ]
    },
    {
     "name": "stderr",
     "output_type": "stream",
     "text": [
      "\u001b[2mResolved \u001b[1m146 packages\u001b[0m \u001b[2min 5.09s\u001b[0m\u001b[0m\n",
      "   \u001b[36m\u001b[1mBuilding\u001b[0m\u001b[39m ploomberpipelinetemplate\u001b[2m @ file:///D:/CompSci/Github/PloomberPipelineTemplate\u001b[0m\n",
      "\u001b[36m\u001b[1mDownloading\u001b[0m\u001b[39m plotly \u001b[2m(14.1MiB)\u001b[0m\n",
      "\u001b[36m\u001b[1mDownloading\u001b[0m\u001b[39m pillow \u001b[2m(2.5MiB)\u001b[0m\n",
      "\u001b[36m\u001b[1mDownloading\u001b[0m\u001b[39m numpy \u001b[2m(12.3MiB)\u001b[0m\n",
      "\u001b[36m\u001b[1mDownloading\u001b[0m\u001b[39m sqlalchemy \u001b[2m(2.0MiB)\u001b[0m\n",
      "\u001b[36m\u001b[1mDownloading\u001b[0m\u001b[39m lxml \u001b[2m(3.6MiB)\u001b[0m\n",
      "\u001b[36m\u001b[1mDownloading\u001b[0m\u001b[39m pywinpty \u001b[2m(1.3MiB)\u001b[0m\n",
      "\u001b[36m\u001b[1mDownloading\u001b[0m\u001b[39m nbclassic \u001b[2m(9.5MiB)\u001b[0m\n",
      " \u001b[32m\u001b[1mDownloaded\u001b[0m\u001b[39m pywinpty\n",
      "      \u001b[32m\u001b[1mBuilt\u001b[0m\u001b[39m ploomberpipelinetemplate\u001b[2m @ file:///D:/CompSci/Github/PloomberPipelineTemplate\u001b[0m\n",
      " \u001b[32m\u001b[1mDownloaded\u001b[0m\u001b[39m pillow\n",
      " \u001b[32m\u001b[1mDownloaded\u001b[0m\u001b[39m sqlalchemy\n",
      " \u001b[32m\u001b[1mDownloaded\u001b[0m\u001b[39m lxml\n",
      " \u001b[32m\u001b[1mDownloaded\u001b[0m\u001b[39m numpy\n",
      " \u001b[32m\u001b[1mDownloaded\u001b[0m\u001b[39m nbclassic\n"
     ]
    }
   ],
   "source": [
    "%%cmd\n",
    "uv sync"
   ]
  },
  {
   "cell_type": "markdown",
   "metadata": {},
   "source": [
    "if yu need to export to requirements you can use"
   ]
  },
  {
   "cell_type": "code",
   "execution_count": null,
   "metadata": {},
   "outputs": [],
   "source": []
  }
 ],
 "metadata": {
  "kernelspec": {
   "display_name": "Python 3",
   "language": "python",
   "name": "python3"
  },
  "language_info": {
   "codemirror_mode": {
    "name": "ipython",
    "version": 3
   },
   "file_extension": ".py",
   "mimetype": "text/x-python",
   "name": "python",
   "nbconvert_exporter": "python",
   "pygments_lexer": "ipython3",
   "version": "3.10.11"
  }
 },
 "nbformat": 4,
 "nbformat_minor": 2
}
