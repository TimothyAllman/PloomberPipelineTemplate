{
 "cells": [
  {
   "cell_type": "markdown",
   "metadata": {},
   "source": [
    "we use uv to manage our project and do dependecy resolution"
   ]
  },
  {
   "cell_type": "code",
   "execution_count": 1,
   "metadata": {},
   "outputs": [
    {
     "name": "stdout",
     "output_type": "stream",
     "text": [
      "Microsoft Windows [Version 10.0.19045.5247]\n",
      "(c) Microsoft Corporation. All rights reserved.\n",
      "\n",
      "(.venv) d:\\CompSci\\Github\\PloomberPipelineTemplate>pip install uv\n",
      "Collecting uv\n",
      "  Downloading uv-0.6.4-py3-none-win_amd64.whl.metadata (11 kB)\n",
      "Downloading uv-0.6.4-py3-none-win_amd64.whl (16.9 MB)\n",
      "   ---------------------------------------- 12.8/16.9 MB 2.6 MB/s eta 0:00:02-- ------------------------------------ 1.3/16.9 MB 4.0 MB/s eta 0:00:04---- ----------------------------------- 1.8/16.9 MB 3.5 MB/s eta 0:00:05------- -------------------------------- 3.1/16.9 MB 2.6 MB/s eta 0:00:06-------- ------------------------------- 3.7/16.9 MB 2.5 MB/s eta 0:00:06--------- ------------------------------ 4.2/16.9 MB 2.5 MB/s eta 0:00:06---------------------------- 4.7/16.9 MB 2.5 MB/s eta 0:00:05------------ --------------------------- 5.2/16.9 MB 2.4 MB/s eta 0:00:05------------- -------------------------- 5.8/16.9 MB 2.4 MB/s eta 0:00:05 ------------------------- 6.3/16.9 MB 2.5 MB/s eta 0:00:05 --------------------- 7.9/16.9 MB 2.5 MB/s eta 0:00:04------------------- -------------------- 8.4/16.9 MB 2.5 MB/s eta 0:00:04 ---------------------- ----------------- 9.7/16.9 MB 2.5 MB/s eta 0:00:03--------------------------- ------------ 11.5/16.9 MB 2.6 MB/s eta 0:00:03 ----------- 12.1/16.9 MB 2.6 MB/s eta 0:00:02-------------------------------- ------- 13.6/16.9 MB 2.7 MB/s eta 0:00:02 ------ 14.2/16.9 MB 2.7 MB/s eta 0:00:02 ----- 14.7/16.9 MB 2.7 MB/s eta 0:00:01------------------------------------ --- 15.5/16.9 MB 2.7 MB/s eta 0:00:01-------------------------------------- - 16.3/16.9 MB 2.7 MB/s eta 0:00:01  16.8/16.9 MB 2.7 MB/s eta 0:00:01---------------------------------------- 16.9/16.9 MB 2.7 MB/s eta 0:00:00\n",
      "Installing collected packages: uv\n",
      "Successfully installed uv-0.6.4\n",
      "\n",
      "(.venv) d:\\CompSci\\Github\\PloomberPipelineTemplate>"
     ]
    }
   ],
   "source": [
    "%%cmd\n",
    "pip install uv"
   ]
  },
  {
   "cell_type": "markdown",
   "metadata": {},
   "source": [
    "in order to set the prjoect up/get all he correct packages/dependencies installed in the right places"
   ]
  },
  {
   "cell_type": "code",
   "execution_count": null,
   "metadata": {},
   "outputs": [],
   "source": [
    "%%cmd\n",
    "uv sync"
   ]
  },
  {
   "cell_type": "markdown",
   "metadata": {},
   "source": [
    "if yu need to export to requirements you can use"
   ]
  },
  {
   "cell_type": "code",
   "execution_count": null,
   "metadata": {},
   "outputs": [],
   "source": []
  }
 ],
 "metadata": {
  "kernelspec": {
   "display_name": "Python 3",
   "language": "python",
   "name": "python3"
  },
  "language_info": {
   "codemirror_mode": {
    "name": "ipython",
    "version": 3
   },
   "file_extension": ".py",
   "mimetype": "text/x-python",
   "name": "python",
   "nbconvert_exporter": "python",
   "pygments_lexer": "ipython3",
   "version": "3.10.11"
  }
 },
 "nbformat": 4,
 "nbformat_minor": 2
}
